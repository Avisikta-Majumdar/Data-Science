{
  "nbformat": 4,
  "nbformat_minor": 0,
  "metadata": {
    "colab": {
      "name": "Numpy -1 To Reshape The Array .ipynb",
      "provenance": [],
      "authorship_tag": "ABX9TyND37y9oFZNdzWuac6Mb9Ed",
      "include_colab_link": true
    },
    "kernelspec": {
      "name": "python3",
      "display_name": "Python 3"
    },
    "language_info": {
      "name": "python"
    }
  },
  "cells": [
    {
      "cell_type": "markdown",
      "metadata": {
        "id": "view-in-github",
        "colab_type": "text"
      },
      "source": [
        "<a href=\"https://colab.research.google.com/github/Avisikta-Majumdar/Data-Science/blob/main/Numpy_1_To_Reshape_The_Array_.ipynb\" target=\"_parent\"><img src=\"https://colab.research.google.com/assets/colab-badge.svg\" alt=\"Open In Colab\"/></a>"
      ]
    },
    {
      "cell_type": "markdown",
      "source": [
        "## <i>Importing <b>numpy"
      ],
      "metadata": {
        "id": "cEl8-6iZ8Ahl"
      }
    },
    {
      "cell_type": "code",
      "execution_count": 1,
      "metadata": {
        "id": "SdJKB857fNDa"
      },
      "outputs": [],
      "source": [
        "import numpy as np"
      ]
    },
    {
      "cell_type": "markdown",
      "source": [
        "## Suppose we have created an array of shape (3,2,3) (3-D array)<br>\n",
        "### Now,we want to reshape the array into 2-D ,\n",
        "### *So how many ways are there to convert the array into 2-D ??*<br>\n",
        "### *Only 6 ways are there*<br>\n",
        "* #### (1,18)\n",
        "* #### (2 ,9 )\n",
        "* #### (3 , 6)\n",
        "* #### (6, 3)\n",
        "* #### (9 , 2)\n",
        "* #### (18 , 1)\n",
        "\n",
        "### Now if i want to convert the array into 2-D <br>\n",
        "### where the **no of rows will be n** then we can do like this also <br>\n",
        "## <u><b> Syntax</u> :-\n",
        "# <font size='+5' color =\"##ff0d0d\"><b><code> array = array.reshape((n , -1)) </code> \n",
        "### It will auto calculate the column number \n"
      ],
      "metadata": {
        "id": "oW6PBe6f2oTl"
      }
    },
    {
      "cell_type": "code",
      "source": [
        "a = np.arange(1,19).reshape((3,2,3))\n",
        "a"
      ],
      "metadata": {
        "colab": {
          "base_uri": "https://localhost:8080/"
        },
        "id": "fW8TTdbgfOjV",
        "outputId": "48a33aaf-b9a0-4f1e-9fa1-f62c607d7801"
      },
      "execution_count": 2,
      "outputs": [
        {
          "output_type": "execute_result",
          "data": {
            "text/plain": [
              "array([[[ 1,  2,  3],\n",
              "        [ 4,  5,  6]],\n",
              "\n",
              "       [[ 7,  8,  9],\n",
              "        [10, 11, 12]],\n",
              "\n",
              "       [[13, 14, 15],\n",
              "        [16, 17, 18]]])"
            ]
          },
          "metadata": {},
          "execution_count": 2
        }
      ]
    },
    {
      "cell_type": "code",
      "source": [
        "a.shape"
      ],
      "metadata": {
        "colab": {
          "base_uri": "https://localhost:8080/"
        },
        "id": "8y4Su2TjfQo0",
        "outputId": "bcd5440a-d11c-4c03-b87f-f2c27f640d7c"
      },
      "execution_count": 3,
      "outputs": [
        {
          "output_type": "execute_result",
          "data": {
            "text/plain": [
              "(3, 2, 3)"
            ]
          },
          "metadata": {},
          "execution_count": 3
        }
      ]
    },
    {
      "cell_type": "markdown",
      "source": [
        "### Let's convert the **3-D array into 2-D**"
      ],
      "metadata": {
        "id": "SZ_kmA636v4U"
      }
    },
    {
      "cell_type": "markdown",
      "source": [
        "### <b>Example 1"
      ],
      "metadata": {
        "id": "PEKaVhK27KKr"
      }
    },
    {
      "cell_type": "code",
      "source": [
        "row = int(input(f\"Enter no of rows(must be divisble of {a.size}):- \"))\n",
        "a = a.reshape((row,-1))\n",
        "print(f\"Number of columns(auto calculated) :-{a.shape[1]}\")"
      ],
      "metadata": {
        "colab": {
          "base_uri": "https://localhost:8080/"
        },
        "id": "-G0-8QMRfRSc",
        "outputId": "b4217400-26ec-4ba8-9e29-c33b893f11e8"
      },
      "execution_count": 4,
      "outputs": [
        {
          "output_type": "stream",
          "name": "stdout",
          "text": [
            "Enter no of rows(must be divisble of 18):- 6\n",
            "Number of columns(auto calculated) :-3\n"
          ]
        }
      ]
    },
    {
      "cell_type": "code",
      "source": [
        "a.shape"
      ],
      "metadata": {
        "id": "Ojq2E__wfdws",
        "outputId": "4326ae49-a5f2-42fd-dec8-7de1ad0132c3",
        "colab": {
          "base_uri": "https://localhost:8080/"
        }
      },
      "execution_count": 5,
      "outputs": [
        {
          "output_type": "execute_result",
          "data": {
            "text/plain": [
              "(6, 3)"
            ]
          },
          "metadata": {},
          "execution_count": 5
        }
      ]
    },
    {
      "cell_type": "code",
      "source": [
        "a"
      ],
      "metadata": {
        "colab": {
          "base_uri": "https://localhost:8080/"
        },
        "id": "H4QGtsau7IU2",
        "outputId": "38f8bd67-8433-4e90-879b-8a6a73aae5f8"
      },
      "execution_count": 6,
      "outputs": [
        {
          "output_type": "execute_result",
          "data": {
            "text/plain": [
              "array([[ 1,  2,  3],\n",
              "       [ 4,  5,  6],\n",
              "       [ 7,  8,  9],\n",
              "       [10, 11, 12],\n",
              "       [13, 14, 15],\n",
              "       [16, 17, 18]])"
            ]
          },
          "metadata": {},
          "execution_count": 6
        }
      ]
    },
    {
      "cell_type": "markdown",
      "source": [
        "### <b>Example 2"
      ],
      "metadata": {
        "id": "bWxCYfTG7OBL"
      }
    },
    {
      "cell_type": "code",
      "source": [
        "column = int(input(f\"Enter no of rows(must be divisble of {a.size}):- \"))\n",
        "a = a.reshape(( -1 ,column ))\n",
        "print(f\"Number of rows(auto calculated) :-{a.shape[0]}\")"
      ],
      "metadata": {
        "colab": {
          "base_uri": "https://localhost:8080/"
        },
        "id": "3Ob3Lpep7Vdr",
        "outputId": "92cf6b64-bd49-4e25-c7f9-e0bc42a31bc7"
      },
      "execution_count": 7,
      "outputs": [
        {
          "output_type": "stream",
          "name": "stdout",
          "text": [
            "Enter no of rows(must be divisble of 18):- 9\n",
            "Number of rows(auto calculated) :-2\n"
          ]
        }
      ]
    },
    {
      "cell_type": "code",
      "source": [
        "a.shape"
      ],
      "metadata": {
        "colab": {
          "base_uri": "https://localhost:8080/"
        },
        "id": "rkANcbiL7Va0",
        "outputId": "35130bdb-a565-490c-f539-c3e1fc77fd1a"
      },
      "execution_count": 8,
      "outputs": [
        {
          "output_type": "execute_result",
          "data": {
            "text/plain": [
              "(2, 9)"
            ]
          },
          "metadata": {},
          "execution_count": 8
        }
      ]
    },
    {
      "cell_type": "markdown",
      "source": [
        "### <b>Example 3"
      ],
      "metadata": {
        "id": "t5rm0AZq7kFl"
      }
    },
    {
      "cell_type": "markdown",
      "source": [
        "Now will convert **3-D array to 1-D array**"
      ],
      "metadata": {
        "id": "cywKRSvO7nbs"
      }
    },
    {
      "cell_type": "code",
      "source": [
        "print(\"Array dimension is \",a.ndim)\n",
        "print(\"Let's convert the array into 1-D array by using -1\")\n",
        "a = a.reshape(-1,)\n",
        "print(\"New shape of the array is \",a.shape)\n",
        "print(\"New array dimension is \",a.ndim)\n"
      ],
      "metadata": {
        "id": "zmRgVwiAfhls",
        "colab": {
          "base_uri": "https://localhost:8080/"
        },
        "outputId": "879afe4e-ddbe-4b0a-d7bb-f192323651f0"
      },
      "execution_count": 9,
      "outputs": [
        {
          "output_type": "stream",
          "name": "stdout",
          "text": [
            "Array dimension is  2\n",
            "Let's convert the array into 1-D array by using -1\n",
            "New shape of the array is  (18,)\n",
            "New array dimension is  1\n"
          ]
        }
      ]
    },
    {
      "cell_type": "code",
      "source": [
        ""
      ],
      "metadata": {
        "id": "TeST9bHP2kvu"
      },
      "execution_count": 9,
      "outputs": []
    }
  ]
}