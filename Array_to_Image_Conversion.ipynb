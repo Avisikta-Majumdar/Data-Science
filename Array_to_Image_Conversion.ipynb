{
  "nbformat": 4,
  "nbformat_minor": 0,
  "metadata": {
    "colab": {
      "name": "Array to Image Conversion.ipynb",
      "provenance": [],
      "authorship_tag": "ABX9TyMHpKklSDVIPh2O0+Z+YNEr",
      "include_colab_link": true
    },
    "kernelspec": {
      "name": "python3",
      "display_name": "Python 3"
    },
    "language_info": {
      "name": "python"
    }
  },
  "cells": [
    {
      "cell_type": "markdown",
      "metadata": {
        "id": "view-in-github",
        "colab_type": "text"
      },
      "source": [
        "<a href=\"https://colab.research.google.com/github/Avisikta-Majumdar/Data-Science/blob/main/Array_to_Image_Conversion.ipynb\" target=\"_parent\"><img src=\"https://colab.research.google.com/assets/colab-badge.svg\" alt=\"Open In Colab\"/></a>"
      ]
    },
    {
      "cell_type": "code",
      "source": [
        "# Python program to convert\n",
        "# numpy array to image\n",
        "\n",
        "# import required libraries\n",
        "import numpy as np\n",
        "from PIL import Image as im"
      ],
      "metadata": {
        "id": "NHy2dSnJmMIE"
      },
      "execution_count": 13,
      "outputs": []
    },
    {
      "cell_type": "markdown",
      "source": [
        "# <b> Array To Image Conversion"
      ],
      "metadata": {
        "id": "A2bjanUh1LVd"
      }
    },
    {
      "cell_type": "markdown",
      "source": [
        "### <b>Example 1 :(Colourful image)<br></b>\n",
        "Creating an array of size **( 256 * 256 )** & the shape is (256,256)<br>\n"
      ],
      "metadata": {
        "id": "GydaPv6kyO3H"
      }
    },
    {
      "cell_type": "code",
      "source": [
        "from matplotlib import pyplot as plt\n",
        "data = np.zeros(256*256).reshape((256,256))\n",
        "data[0:128 ,0:128] = 255\n",
        "data[128:256,0:128] = 50\n",
        "data[0:128 ,128:] = 150\n",
        "data[128:256,128:] = 0\n",
        "#data[:,] = 100\n",
        "plt.imshow(data, interpolation='nearest')\n",
        "plt.show()"
      ],
      "metadata": {
        "colab": {
          "base_uri": "https://localhost:8080/",
          "height": 269
        },
        "id": "dEgyW1WXmuR7",
        "outputId": "f84e3c6b-3e97-41d3-d483-f82dbc1b539e"
      },
      "execution_count": 22,
      "outputs": [
        {
          "output_type": "display_data",
          "data": {
            "image/png": "[encoded data removed]",
            "text/plain": [
              "<Figure size 432x288 with 1 Axes>"
            ]
          },
          "metadata": {
            "needs_background": "light"
          }
        }
      ]
    },
    {
      "cell_type": "markdown",
      "source": [
        "### <b> Example 2: (Gray image)<br></b>Creating an array of size **( 256 * 256 )** & the shape is (256,256)<br>"
      ],
      "metadata": {
        "id": "vrrM8SGJzh5X"
      }
    },
    {
      "cell_type": "code",
      "source": [
        "from matplotlib import pyplot as plt\n",
        "data = np.array([1./255 for i in range(256*256)]).reshape((256 , 256))\n",
        "\n",
        "plt.imshow(data, interpolation='nearest')\n",
        "plt.show()"
      ],
      "metadata": {
        "id": "PKFPr-vwmzvz",
        "colab": {
          "base_uri": "https://localhost:8080/",
          "height": 269
        },
        "outputId": "031a16c0-e2d5-4318-bb6a-26ac6921c27f"
      },
      "execution_count": 23,
      "outputs": [
        {
          "output_type": "display_data",
          "data": {
            "image/png": "[encoded data removed]",
            "text/plain": [
              "<Figure size 432x288 with 1 Axes>"
            ]
          },
          "metadata": {
            "needs_background": "light"
          }
        }
      ]
    },
    {
      "cell_type": "code",
      "source": [
        "from matplotlib import pyplot as plt\n",
        "data = np.array([255 for i in range(256*256)]).reshape((256 , 256))\n",
        "\n",
        "plt.imshow(data, interpolation='nearest')\n",
        "plt.show()"
      ],
      "metadata": {
        "colab": {
          "base_uri": "https://localhost:8080/",
          "height": 269
        },
        "id": "9cJjVGcDymCZ",
        "outputId": "2c630507-beeb-4955-8a17-cb2a2d2172e2"
      },
      "execution_count": 29,
      "outputs": [
        {
          "output_type": "display_data",
          "data": {
            "image/png": "[encoded data removed]",
            "text/plain": [
              "<Figure size 432x288 with 1 Axes>"
            ]
          },
          "metadata": {
            "needs_background": "light"
          }
        }
      ]
    },
    {
      "cell_type": "markdown",
      "source": [
        "# <b> Image to Array "
      ],
      "metadata": {
        "id": "oE0s4QOi0XkP"
      }
    },
    {
      "cell_type": "code",
      "source": [
        "from google.colab import drive\n",
        "drive.mount(\"/A/\")"
      ],
      "metadata": {
        "colab": {
          "base_uri": "https://localhost:8080/"
        },
        "id": "b6VGtpQNz9T3",
        "outputId": "4652b53a-5d39-47fc-e688-2e4b44742a70"
      },
      "execution_count": 30,
      "outputs": [
        {
          "output_type": "stream",
          "name": "stdout",
          "text": [
            "Mounted at /A/\n"
          ]
        }
      ]
    },
    {
      "cell_type": "code",
      "source": [
        "path = \"/A/MyDrive/Colab Notebooks/sample.jpg\""
      ],
      "metadata": {
        "id": "KedKJGe80hMv"
      },
      "execution_count": 31,
      "outputs": []
    },
    {
      "cell_type": "code",
      "source": [
        "from PIL import Image\n",
        "#  path is the file location\n",
        "image = Image.open(path)\n",
        "\n",
        "# summarize some details about the image\n",
        "print(\"Image format :- \",image.format)\n",
        "print(\"The size of the image :-\",image.size)\n",
        "print(\"The image mode :- \",image.mode)\n"
      ],
      "metadata": {
        "colab": {
          "base_uri": "https://localhost:8080/"
        },
        "id": "6F_vqu8H0qRw",
        "outputId": "2233e7d5-2fd4-4080-cab1-26525387c871"
      },
      "execution_count": 34,
      "outputs": [
        {
          "output_type": "stream",
          "name": "stdout",
          "text": [
            "Image format :-  JPEG\n",
            "The size of the image :- (828, 412)\n",
            "The image mode :-  RGB\n"
          ]
        }
      ]
    },
    {
      "cell_type": "code",
      "source": [
        "# Import the necessary libraries\n",
        "from numpy import asarray\n",
        "\n",
        "# load the image and convert into\n",
        "# numpy array\n",
        "img = Image.open(path)\n",
        "numpydata = asarray(img)\n",
        "\n",
        "# data\n",
        "print(numpydata)\n"
      ],
      "metadata": {
        "colab": {
          "base_uri": "https://localhost:8080/"
        },
        "id": "5GYdJQAG0uVG",
        "outputId": "f8186f59-b873-43a1-84fb-1c95dc21e79e"
      },
      "execution_count": 33,
      "outputs": [
        {
          "output_type": "stream",
          "name": "stdout",
          "text": [
            "[[[255 242 244]\n",
            "  [255 250 255]\n",
            "  [252 253 255]\n",
            "  ...\n",
            "  [255 252 244]\n",
            "  [255 253 245]\n",
            "  [255 253 245]]\n",
            "\n",
            " [[255 250 255]\n",
            "  [249 255 255]\n",
            "  [240 255 255]\n",
            "  ...\n",
            "  [249 254 255]\n",
            "  [250 255 255]\n",
            "  [250 255 255]]\n",
            "\n",
            " [[254 255 255]\n",
            "  [235 255 255]\n",
            "  [227 255 255]\n",
            "  ...\n",
            "  [244 254 255]\n",
            "  [244 253 255]\n",
            "  [244 253 255]]\n",
            "\n",
            " ...\n",
            "\n",
            " [[255 251 245]\n",
            "  [245 250 254]\n",
            "  [240 249 255]\n",
            "  ...\n",
            "  [226  79   1]\n",
            "  [228  78   1]\n",
            "  [228  78   1]]\n",
            "\n",
            " [[255 251 245]\n",
            "  [246 251 255]\n",
            "  [240 249 255]\n",
            "  ...\n",
            "  [227  80   2]\n",
            "  [229  79   2]\n",
            "  [230  78   2]]\n",
            "\n",
            " [[255 251 245]\n",
            "  [246 251 255]\n",
            "  [240 249 255]\n",
            "  ...\n",
            "  [227  80   2]\n",
            "  [229  79   2]\n",
            "  [230  78   2]]]\n"
          ]
        }
      ]
    },
    {
      "cell_type": "code",
      "source": [
        "numpydata.shape"
      ],
      "metadata": {
        "colab": {
          "base_uri": "https://localhost:8080/"
        },
        "id": "h7n4G7OX03wo",
        "outputId": "0371684c-8247-43e1-8e1d-5b5647311f12"
      },
      "execution_count": 35,
      "outputs": [
        {
          "output_type": "execute_result",
          "data": {
            "text/plain": [
              "(412, 828, 3)"
            ]
          },
          "metadata": {},
          "execution_count": 35
        }
      ]
    },
    {
      "cell_type": "code",
      "source": [
        "numpydata[0:1,0:5]"
      ],
      "metadata": {
        "colab": {
          "base_uri": "https://localhost:8080/"
        },
        "id": "gRVQVUi11pPH",
        "outputId": "b97690e9-8249-4908-e822-ed14b562128d"
      },
      "execution_count": 37,
      "outputs": [
        {
          "output_type": "execute_result",
          "data": {
            "text/plain": [
              "array([[[255, 242, 244],\n",
              "        [255, 250, 255],\n",
              "        [252, 253, 255],\n",
              "        [255, 250, 251],\n",
              "        [255, 248, 244]]], dtype=uint8)"
            ]
          },
          "metadata": {},
          "execution_count": 37
        }
      ]
    },
    {
      "cell_type": "code",
      "source": [
        ""
      ],
      "metadata": {
        "id": "NK0bJg2m1r8O"
      },
      "execution_count": null,
      "outputs": []
    }
  ]
}