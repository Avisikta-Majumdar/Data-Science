{
  "nbformat": 4,
  "nbformat_minor": 0,
  "metadata": {
    "colab": {
      "name": "House Price Prediction Function.ipynb",
      "provenance": []
    },
    "kernelspec": {
      "name": "python3",
      "display_name": "Python 3"
    },
    "language_info": {
      "name": "python"
    }
  },
  "cells": [
    {
      "cell_type": "code",
      "metadata": {
        "id": "IIOB3sBP68Ln"
      },
      "source": [
        "import numpy as np"
      ],
      "execution_count": 1,
      "outputs": []
    },
    {
      "cell_type": "code",
      "metadata": {
        "id": "_9hc4Q0K6tab"
      },
      "source": [
        "def predict_price(location, area , bhk):\n",
        "    loc_index= kolkata.index(location)\n",
        "    \n",
        "    x = np.zeros(28)\n",
        "    x[0] = area\n",
        "    x[1] = bhk\n",
        "    if loc_index >= 0:\n",
        "        x[loc_index] = 1\n",
        "        \n",
        "    return mp.predict([x])[0]"
      ],
      "execution_count": 2,
      "outputs": []
    },
    {
      "cell_type": "code",
      "metadata": {
        "id": "XU6WAFhA6-ld"
      },
      "source": [
        ""
      ],
      "execution_count": null,
      "outputs": []
    }
  ]
}