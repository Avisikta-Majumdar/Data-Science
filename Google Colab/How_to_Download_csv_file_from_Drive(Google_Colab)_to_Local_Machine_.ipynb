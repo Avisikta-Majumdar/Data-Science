{
  "nbformat": 4,
  "nbformat_minor": 0,
  "metadata": {
    "colab": {
      "name": "How to Download .csv file from Drive(Google Colab) to Local Machine .ipynb",
      "provenance": []
    },
    "kernelspec": {
      "name": "python3",
      "display_name": "Python 3"
    },
    "language_info": {
      "name": "python"
    }
  },
  "cells": [
    {
      "cell_type": "code",
      "metadata": {
        "id": "ZPApV4Jifbb0"
      },
      "source": [
        "import pandas as pd"
      ],
      "execution_count": 1,
      "outputs": []
    },
    {
      "cell_type": "code",
      "metadata": {
        "colab": {
          "base_uri": "https://localhost:8080/"
        },
        "id": "6jBJqFdQfl3C",
        "outputId": "86b4fcd2-0a3b-4de9-ec4d-c5e86a0406cc"
      },
      "source": [
        "from google.colab import drive\n",
        "drive.mount('/content/gdrive')"
      ],
      "execution_count": 2,
      "outputs": [
        {
          "output_type": "stream",
          "name": "stdout",
          "text": [
            "Mounted at /content/gdrive\n"
          ]
        }
      ]
    },
    {
      "cell_type": "code",
      "metadata": {
        "id": "-Hw8Mp_NfroA"
      },
      "source": [
        "path='/content/gdrive/MyDrive/AlmaBetter/Modules/Module 4 : Machine Learning/4.2 - Linear Regression I/Assignment/housing.csv'\n",
        "df = pd.read_csv(path ,header = None )"
      ],
      "execution_count": 3,
      "outputs": []
    },
    {
      "cell_type": "code",
      "metadata": {
        "colab": {
          "base_uri": "https://localhost:8080/",
          "height": 110
        },
        "id": "Lof7acJ_Vmyz",
        "outputId": "6a7a4f51-38f2-426c-cbdb-bc16269f17aa"
      },
      "source": [
        "df.head(2)"
      ],
      "execution_count": 4,
      "outputs": [
        {
          "output_type": "execute_result",
          "data": {
            "text/html": [
              "<div>\n",
              "<style scoped>\n",
              "    .dataframe tbody tr th:only-of-type {\n",
              "        vertical-align: middle;\n",
              "    }\n",
              "\n",
              "    .dataframe tbody tr th {\n",
              "        vertical-align: top;\n",
              "    }\n",
              "\n",
              "    .dataframe thead th {\n",
              "        text-align: right;\n",
              "    }\n",
              "</style>\n",
              "<table border=\"1\" class=\"dataframe\">\n",
              "  <thead>\n",
              "    <tr style=\"text-align: right;\">\n",
              "      <th></th>\n",
              "      <th>0</th>\n",
              "    </tr>\n",
              "  </thead>\n",
              "  <tbody>\n",
              "    <tr>\n",
              "      <th>0</th>\n",
              "      <td>0.00632  18.00   2.310  0  0.5380  6.5750  65...</td>\n",
              "    </tr>\n",
              "    <tr>\n",
              "      <th>1</th>\n",
              "      <td>0.02731   0.00   7.070  0  0.4690  6.4210  78...</td>\n",
              "    </tr>\n",
              "  </tbody>\n",
              "</table>\n",
              "</div>"
            ],
            "text/plain": [
              "                                                   0\n",
              "0   0.00632  18.00   2.310  0  0.5380  6.5750  65...\n",
              "1   0.02731   0.00   7.070  0  0.4690  6.4210  78..."
            ]
          },
          "metadata": {},
          "execution_count": 4
        }
      ]
    },
    {
      "cell_type": "code",
      "metadata": {
        "id": "dOapDrkcfyuI"
      },
      "source": [
        "crim  =[]#  per capita crime rate by town\n",
        "zn  =[]#  proportion of residential land zoned for lots over 25,000 sq.ft.\n",
        "indus  =[]#  proportion of non-retail business acres per town.\n",
        "chas =[] #  Charles River dummy variable (1 if tract bounds river; 0 otherwise)\n",
        "nox =[]#  nitric oxides concentration (parts per 10 million)\n",
        "rm =[] # average number of rooms per dwelling\n",
        "age =[]#  proportion of owner-occupied units built prior to 1940\n",
        "dis =[]#  weighted distances to five Boston employment centres\n",
        "rad =[] # index of accessibility to radial highways\n",
        "tax =[]#  full-value property-tax rate per $10,000\n",
        "ptratio =[]#  pupil-teacher ratio by town\n",
        "b =[]#  1000(Bk - 0.63)^2 where Bk is the proportion of blacks by town\n",
        "lstat =[]#  % lower status of the population\n",
        "medv =[]# Median value of owner-occupied homes in $1000's"
      ],
      "execution_count": 5,
      "outputs": []
    },
    {
      "cell_type": "markdown",
      "metadata": {
        "id": "xy-i76Tnf5CN"
      },
      "source": [
        "## **Data Cleaning**"
      ]
    },
    {
      "cell_type": "code",
      "metadata": {
        "id": "rIcYrwrFf2Vl"
      },
      "source": [
        "for val in df[0]:\n",
        "  val = val.replace(\"   \",' ')\n",
        "  val = val.replace(\"  \",\" \")\n",
        "  lst = [ i for i in val.split(\" \")]\n",
        "  lst_updated=[]\n",
        "  for i in lst:\n",
        "    if len(i)>0:\n",
        "      lst_updated.append(float(i))\n",
        "  crim.append(lst_updated[0])\n",
        "  zn.append(lst_updated[1])\n",
        "  indus.append(lst_updated[2])\n",
        "  chas.append(lst_updated[3])\n",
        "  nox.append(lst_updated[4])\n",
        "  rm.append(lst_updated[5])\n",
        "  age.append(lst_updated[6])\n",
        "  dis.append(lst_updated[7])\n",
        "  rad.append(lst_updated[8])\n",
        "  tax.append(lst_updated[9])\n",
        "  ptratio.append(lst_updated[10])\n",
        "  b.append(lst_updated[11])\n",
        "  lstat.append(lst_updated[12])\n",
        "  medv.append(lst_updated[13])\n",
        "  # print(len(lst_updated))\n",
        "  # crim zn indus chas nox rm age dis rad tax ptratio b lstat medv\n"
      ],
      "execution_count": 6,
      "outputs": []
    },
    {
      "cell_type": "code",
      "metadata": {
        "id": "7gqJ4agjf7Yp"
      },
      "source": [
        "data = { \"Crim\" :crim, \"Zn\":zn , \"Indus\":indus , \"Chas\":chas , \"Nox\":nox , \"Rm\":rm , \n",
        "         \"Age\":age , \"Dis\":dis , \"Rad\":rad , \"Tax\":tax , \"Ptratio\":ptratio , \"B\":b , \n",
        "        \"Lstat\":lstat , \"Medv\":medv\n",
        "    \n",
        "}"
      ],
      "execution_count": 7,
      "outputs": []
    },
    {
      "cell_type": "code",
      "metadata": {
        "colab": {
          "base_uri": "https://localhost:8080/",
          "height": 203
        },
        "id": "zAEbbB31f-if",
        "outputId": "a4bd7707-80f9-4f9f-893e-817f43361da7"
      },
      "source": [
        "df = pd.DataFrame(data)\n",
        "df.head()"
      ],
      "execution_count": 8,
      "outputs": [
        {
          "output_type": "execute_result",
          "data": {
            "text/html": [
              "<div>\n",
              "<style scoped>\n",
              "    .dataframe tbody tr th:only-of-type {\n",
              "        vertical-align: middle;\n",
              "    }\n",
              "\n",
              "    .dataframe tbody tr th {\n",
              "        vertical-align: top;\n",
              "    }\n",
              "\n",
              "    .dataframe thead th {\n",
              "        text-align: right;\n",
              "    }\n",
              "</style>\n",
              "<table border=\"1\" class=\"dataframe\">\n",
              "  <thead>\n",
              "    <tr style=\"text-align: right;\">\n",
              "      <th></th>\n",
              "      <th>Crim</th>\n",
              "      <th>Zn</th>\n",
              "      <th>Indus</th>\n",
              "      <th>Chas</th>\n",
              "      <th>Nox</th>\n",
              "      <th>Rm</th>\n",
              "      <th>Age</th>\n",
              "      <th>Dis</th>\n",
              "      <th>Rad</th>\n",
              "      <th>Tax</th>\n",
              "      <th>Ptratio</th>\n",
              "      <th>B</th>\n",
              "      <th>Lstat</th>\n",
              "      <th>Medv</th>\n",
              "    </tr>\n",
              "  </thead>\n",
              "  <tbody>\n",
              "    <tr>\n",
              "      <th>0</th>\n",
              "      <td>0.00632</td>\n",
              "      <td>18.0</td>\n",
              "      <td>2.31</td>\n",
              "      <td>0.0</td>\n",
              "      <td>0.538</td>\n",
              "      <td>6.575</td>\n",
              "      <td>65.2</td>\n",
              "      <td>4.0900</td>\n",
              "      <td>1.0</td>\n",
              "      <td>296.0</td>\n",
              "      <td>15.3</td>\n",
              "      <td>396.90</td>\n",
              "      <td>4.98</td>\n",
              "      <td>24.0</td>\n",
              "    </tr>\n",
              "    <tr>\n",
              "      <th>1</th>\n",
              "      <td>0.02731</td>\n",
              "      <td>0.0</td>\n",
              "      <td>7.07</td>\n",
              "      <td>0.0</td>\n",
              "      <td>0.469</td>\n",
              "      <td>6.421</td>\n",
              "      <td>78.9</td>\n",
              "      <td>4.9671</td>\n",
              "      <td>2.0</td>\n",
              "      <td>242.0</td>\n",
              "      <td>17.8</td>\n",
              "      <td>396.90</td>\n",
              "      <td>9.14</td>\n",
              "      <td>21.6</td>\n",
              "    </tr>\n",
              "    <tr>\n",
              "      <th>2</th>\n",
              "      <td>0.02729</td>\n",
              "      <td>0.0</td>\n",
              "      <td>7.07</td>\n",
              "      <td>0.0</td>\n",
              "      <td>0.469</td>\n",
              "      <td>7.185</td>\n",
              "      <td>61.1</td>\n",
              "      <td>4.9671</td>\n",
              "      <td>2.0</td>\n",
              "      <td>242.0</td>\n",
              "      <td>17.8</td>\n",
              "      <td>392.83</td>\n",
              "      <td>4.03</td>\n",
              "      <td>34.7</td>\n",
              "    </tr>\n",
              "    <tr>\n",
              "      <th>3</th>\n",
              "      <td>0.03237</td>\n",
              "      <td>0.0</td>\n",
              "      <td>2.18</td>\n",
              "      <td>0.0</td>\n",
              "      <td>0.458</td>\n",
              "      <td>6.998</td>\n",
              "      <td>45.8</td>\n",
              "      <td>6.0622</td>\n",
              "      <td>3.0</td>\n",
              "      <td>222.0</td>\n",
              "      <td>18.7</td>\n",
              "      <td>394.63</td>\n",
              "      <td>2.94</td>\n",
              "      <td>33.4</td>\n",
              "    </tr>\n",
              "    <tr>\n",
              "      <th>4</th>\n",
              "      <td>0.06905</td>\n",
              "      <td>0.0</td>\n",
              "      <td>2.18</td>\n",
              "      <td>0.0</td>\n",
              "      <td>0.458</td>\n",
              "      <td>7.147</td>\n",
              "      <td>54.2</td>\n",
              "      <td>6.0622</td>\n",
              "      <td>3.0</td>\n",
              "      <td>222.0</td>\n",
              "      <td>18.7</td>\n",
              "      <td>396.90</td>\n",
              "      <td>5.33</td>\n",
              "      <td>36.2</td>\n",
              "    </tr>\n",
              "  </tbody>\n",
              "</table>\n",
              "</div>"
            ],
            "text/plain": [
              "      Crim    Zn  Indus  Chas    Nox  ...    Tax  Ptratio       B  Lstat  Medv\n",
              "0  0.00632  18.0   2.31   0.0  0.538  ...  296.0     15.3  396.90   4.98  24.0\n",
              "1  0.02731   0.0   7.07   0.0  0.469  ...  242.0     17.8  396.90   9.14  21.6\n",
              "2  0.02729   0.0   7.07   0.0  0.469  ...  242.0     17.8  392.83   4.03  34.7\n",
              "3  0.03237   0.0   2.18   0.0  0.458  ...  222.0     18.7  394.63   2.94  33.4\n",
              "4  0.06905   0.0   2.18   0.0  0.458  ...  222.0     18.7  396.90   5.33  36.2\n",
              "\n",
              "[5 rows x 14 columns]"
            ]
          },
          "metadata": {},
          "execution_count": 8
        }
      ]
    },
    {
      "cell_type": "markdown",
      "metadata": {
        "id": "ntestCd6gDJ3"
      },
      "source": [
        "Now we have cleaned the data ,**Let's make a .csv file & save it to local machine**"
      ]
    },
    {
      "cell_type": "code",
      "metadata": {
        "colab": {
          "base_uri": "https://localhost:8080/",
          "height": 17
        },
        "id": "lZq5ojzMgByT",
        "outputId": "af1ec15e-8f2a-4bd1-c0ee-378c2642b79e"
      },
      "source": [
        "from google.colab import files\n",
        "df.to_csv('cleaned_housing.csv' , index=False) \n",
        "files.download('cleaned_housing.csv')"
      ],
      "execution_count": null,
      "outputs": [
        {
          "output_type": "display_data",
          "data": {
            "application/javascript": [
              "\n",
              "    async function download(id, filename, size) {\n",
              "      if (!google.colab.kernel.accessAllowed) {\n",
              "        return;\n",
              "      }\n",
              "      const div = document.createElement('div');\n",
              "      const label = document.createElement('label');\n",
              "      label.textContent = `Downloading \"${filename}\": `;\n",
              "      div.appendChild(label);\n",
              "      const progress = document.createElement('progress');\n",
              "      progress.max = size;\n",
              "      div.appendChild(progress);\n",
              "      document.body.appendChild(div);\n",
              "\n",
              "      const buffers = [];\n",
              "      let downloaded = 0;\n",
              "\n",
              "      const channel = await google.colab.kernel.comms.open(id);\n",
              "      // Send a message to notify the kernel that we're ready.\n",
              "      channel.send({})\n",
              "\n",
              "      for await (const message of channel.messages) {\n",
              "        // Send a message to notify the kernel that we're ready.\n",
              "        channel.send({})\n",
              "        if (message.buffers) {\n",
              "          for (const buffer of message.buffers) {\n",
              "            buffers.push(buffer);\n",
              "            downloaded += buffer.byteLength;\n",
              "            progress.value = downloaded;\n",
              "          }\n",
              "        }\n",
              "      }\n",
              "      const blob = new Blob(buffers, {type: 'application/binary'});\n",
              "      const a = document.createElement('a');\n",
              "      a.href = window.URL.createObjectURL(blob);\n",
              "      a.download = filename;\n",
              "      div.appendChild(a);\n",
              "      a.click();\n",
              "      div.remove();\n",
              "    }\n",
              "  "
            ],
            "text/plain": [
              "<IPython.core.display.Javascript object>"
            ]
          },
          "metadata": {}
        },
        {
          "output_type": "display_data",
          "data": {
            "application/javascript": [
              "download(\"download_50a463fd-0fe2-416a-9e37-2356f0317f9c\", \"cleaned_housing.csv\", 39169)"
            ],
            "text/plain": [
              "<IPython.core.display.Javascript object>"
            ]
          },
          "metadata": {}
        }
      ]
    },
    {
      "cell_type": "markdown",
      "metadata": {
        "id": "mG7C9ctNjUeA"
      },
      "source": [
        "![Screenshot 2021-11-03 212658.png](data:image/png;base64,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)"
      ]
    },
    {
      "cell_type": "code",
      "metadata": {
        "id": "Gdmi-cB3gUDW"
      },
      "source": [
        ""
      ],
      "execution_count": null,
      "outputs": []
    }
  ]
}