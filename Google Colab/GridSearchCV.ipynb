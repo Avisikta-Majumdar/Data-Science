{
  "nbformat": 4,
  "nbformat_minor": 0,
  "metadata": {
    "colab": {
      "name": "GridSearchCV.ipynb",
      "provenance": []
    },
    "kernelspec": {
      "name": "python3",
      "display_name": "Python 3"
    },
    "language_info": {
      "name": "python"
    }
  },
  "cells": [
    {
      "cell_type": "code",
      "metadata": {
        "id": "ANf1cWeLzLs5"
      },
      "source": [
        "from sklearn.model_selection import train_test_split,cross_val_score , ShuffleSplit , GridSearchCV"
      ],
      "execution_count": 1,
      "outputs": []
    },
    {
      "cell_type": "code",
      "metadata": {
        "id": "Q4HR0KN44e11"
      },
      "source": [
        "import warnings\n",
        "warnings.filterwarnings(\"ignore\")"
      ],
      "execution_count": 12,
      "outputs": []
    },
    {
      "cell_type": "markdown",
      "metadata": {
        "id": "PTR4khS73j9F"
      },
      "source": [
        "## <b> Multiple Models"
      ]
    },
    {
      "cell_type": "code",
      "metadata": {
        "id": "W3dTmylvzhoX"
      },
      "source": [
        "def find_best_model_using_gridsearchcv(X , y):\n",
        "  # algos is in dictionary format and keys are algorithm name like LR , LASSO\n",
        "  # dictionary values is also a dictionary & their we have hyperparameters value\n",
        "    algos = {\n",
        "        \"linear_regression\" : {\n",
        "            \"model\": LinearRegression() , \n",
        "            \"params\" :{\n",
        "                \"normalize\" : [True , False]\n",
        "            }\n",
        "    } , \n",
        "    \"lasso\" : {\n",
        "        \"model\": Lasso(),\n",
        "        \"params\":{\n",
        "            \"alpha\":[1,2],\n",
        "            \"selection\" : [ \"random\",\"cyclic\"]\n",
        "        }\n",
        "    } ,\n",
        "        \n",
        "    \"decision_tree\":{\n",
        "        \"model\": DecisionTreeRegressor(),\n",
        "        \"params\" : {\n",
        "            \"criterion\": [\"mse\",\"friedman_mse\"],\n",
        "            \"splitter\" : [\"best\",\"random\"]\n",
        "            }\n",
        "        }    \n",
        "    }\n",
        "    \n",
        "    scores=[]\n",
        "    cv = ShuffleSplit(n_splits=10, test_size=0.2,random_state=0)\n",
        "    # algo_name will be key of algos\n",
        "    # Config will be values of algos\n",
        "    for algo_name , config in algos.items():\n",
        "        gs = GridSearchCV(config[\"model\"] , config[\"params\"] , cv = Cv , return_train_score=False )\n",
        "        gs.fit(X , y)\n",
        "        scores.append({\n",
        "            \"model\" : algo_name,\n",
        "            \"best_score\":gs.best_score_ , \n",
        "            \"best_params\": gs.best_params_\n",
        "        })\n",
        "        # Each time we are printing the algorithm name , score and hyperparametes value\n",
        "        print(\"model\" , algo_name,\"best_score\",gs.best_score_ , \"best_params\" , gs.best_params_)\n",
        "\n",
        "    # Will return a DataFrame where data is scores(list)\n",
        "    return pd.DataFrame(scores , columns=[\"model\" , \"best_score\" , \" best_params\"])"
      ],
      "execution_count": 2,
      "outputs": []
    },
    {
      "cell_type": "code",
      "metadata": {
        "id": "giWoddOi0RiJ"
      },
      "source": [
        ""
      ],
      "execution_count": null,
      "outputs": []
    },
    {
      "cell_type": "markdown",
      "metadata": {
        "id": "6UJ1qIY33nlk"
      },
      "source": [
        "## <b>Single Model"
      ]
    },
    {
      "cell_type": "code",
      "metadata": {
        "id": "NIm-S9hm4FAl"
      },
      "source": [
        "import numpy as np\n",
        "xtrain = np.array([1,2,3,4,5]).reshape((5,1))\n",
        "ytrain = np.array([10,20,30,40,50])"
      ],
      "execution_count": 10,
      "outputs": []
    },
    {
      "cell_type": "code",
      "metadata": {
        "colab": {
          "base_uri": "https://localhost:8080/"
        },
        "id": "68pdMYQ63pNF",
        "outputId": "91ea892e-1bd6-45ce-cfec-090d4a0b707e"
      },
      "source": [
        "from sklearn.ensemble import AdaBoostRegressor\n",
        "abreg = AdaBoostRegressor()\n",
        "params = {\n",
        " 'n_estimators': [50, 100],\n",
        " 'learning_rate' : [0.01, 0.05, 0.1, 0.5],\n",
        " 'loss' : ['linear', 'square', 'exponential']\n",
        " }\n",
        "\n",
        "# score = make_scorer(mean_squared_error)\n",
        "\n",
        "gridsearch = GridSearchCV(abreg, params, cv=5, return_train_score=True)\n",
        "gridsearch.fit(xtrain, ytrain)\n",
        "print(gridsearch.best_params_)\n",
        "\n",
        "best_estim=gridsearch.best_estimator_\n",
        "print(best_estim)\n",
        "\n",
        "best_estim.fit(xtrain,ytrain)\n",
        "\n",
        "ytr_pred=best_estim.predict(xtrain)"
      ],
      "execution_count": 13,
      "outputs": [
        {
          "output_type": "stream",
          "name": "stdout",
          "text": [
            "{'learning_rate': 0.01, 'loss': 'linear', 'n_estimators': 50}\n",
            "AdaBoostRegressor(learning_rate=0.01)\n"
          ]
        }
      ]
    },
    {
      "cell_type": "code",
      "metadata": {
        "id": "6OT4JbpB4CP3"
      },
      "source": [
        ""
      ],
      "execution_count": null,
      "outputs": []
    }
  ]
}